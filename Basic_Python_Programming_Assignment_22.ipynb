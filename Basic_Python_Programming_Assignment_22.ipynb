{
 "cells": [
  {
   "cell_type": "markdown",
   "id": "7c20da5b",
   "metadata": {},
   "source": [
    "# Question1 Create a function that takes three parameters where:\n",
    " x is the start of the range (inclusive).\n",
    " y is the end of the range (inclusive).\n",
    " n is the divisor to be checked against.\n",
    "Return an ordered list with numbers in the range that are divisible by the third parameter n.\n",
    "Return an empty list if there are no numbers that are divisible by n.\n",
    "Examples\n",
    "list_operation(1, 10, 3) ➞ [3, 6, 9]\n",
    "list_operation(7, 9, 2) ➞ [8]\n",
    "list_operation(15, 20, 7) ➞ []\n",
    "\n",
    "ANSWER-"
   ]
  },
  {
   "cell_type": "code",
   "execution_count": 1,
   "id": "e84bb329",
   "metadata": {},
   "outputs": [
    {
     "name": "stdout",
     "output_type": "stream",
     "text": [
      "output -> [3, 6, 9]\n",
      "output -> [8]\n",
      "output -> []\n"
     ]
    }
   ],
   "source": [
    "def list_operation(start,end,divisor):\n",
    "    out_list=[]\n",
    "    for i in range(start,end+1):\n",
    "        if i%divisor==0:\n",
    "            out_list.append(i)\n",
    "    print(f'output -> {out_list}')\n",
    "    \n",
    "list_operation(1,10,3)\n",
    "list_operation(7,9,2)\n",
    "list_operation(15,20,7)\n",
    "        "
   ]
  },
  {
   "cell_type": "markdown",
   "id": "9acc4794",
   "metadata": {},
   "source": [
    "# Question2 Create a function that takes in two lists and returns True if the second list follows the first list by one element, and False otherwise. In other words, determine if the second list is the first list shifted to the right by 1.\n",
    "Examples\n",
    "simon_says([1, 2], [5, 1]) ➞ True\n",
    "simon_says([1, 2], [5, 5]) ➞ False\n",
    "simon_says([1, 2, 3, 4, 5], [0, 1, 2, 3, 4]) ➞ True\n",
    "simon_says([1, 2, 3, 4, 5], [5, 5, 1, 2, 3]) ➞ False\n",
    "Notes\n",
    " Both input lists will be of the same length, and will have a minimum length of 2.\n",
    " The values of the 0-indexed element in the second list and the n-1th indexed element\n",
    "in the first list do not matter.\n",
    "\n",
    "ANSWER-"
   ]
  },
  {
   "cell_type": "code",
   "execution_count": 1,
   "id": "27f68e3f",
   "metadata": {},
   "outputs": [
    {
     "name": "stdout",
     "output_type": "stream",
     "text": [
      "enter a list 1: 1 2\n",
      "enter a list 2: 5 1\n",
      "([1, 2], [5, 1]) -> True\n",
      "enter a list 1: 1 2\n",
      "enter a list 2: 5 5\n",
      "([1, 2], [5, 5]) -> False\n",
      "enter a list 1: 1 2 3 4 5\n",
      "enter a list 2: 0 1 2 3 4\n",
      "([1, 2, 3, 4, 5], [0, 1, 2, 3, 4]) -> True\n",
      "enter a list 1: 1 2 3 4 5\n",
      "enter a list 2: 5 5 1\n",
      "give equal length of list or must be greater than 2 check it: \n"
     ]
    }
   ],
   "source": [
    "def simon_says(l1,l2):\n",
    "    if len(l1)==len(l2) and len(l1)>=2 and len(l2)>=2:\n",
    "        if(l1[:-1]==l2[1:]):\n",
    "            print(f'{l1,l2} -> {True}')\n",
    "        else:\n",
    "            print(f'{l1,l2} -> {False}')\n",
    "    else:\n",
    "        print(\"give equal length of list or must be greater than 2 check it: \")\n",
    "for ele in range(4):\n",
    "    lst1=input(\"enter a list 1: \")\n",
    "    lst2=input(\"enter a list 2: \")\n",
    "    a=[int(j) for j in lst1.split()]\n",
    "    b=[int(k) for k in lst2.split()]\n",
    "    simon_says(a,b)"
   ]
  },
  {
   "cell_type": "markdown",
   "id": "bbfa4ec3",
   "metadata": {},
   "source": [
    "# Question3 A group of friends have decided to start a secret society. The name will be the first letter of each of their names, sorted in alphabetical order.Create a function that takes in a list of names and returns the name of the secret society.\n",
    "\n",
    "Examples\n",
    "society_name([\"Adam\", \"Sarah\", \"Malcolm\"]) ➞ \"AMS\"\n",
    "society_name([\"Harry\", \"Newt\", \"Luna\", \"Cho\"]) ➞ \"CHLN\"\n",
    "society_name([\"Phoebe\", \"Chandler\", \"Rachel\", \"Ross\", \"Monica\", \"Joey\"])\n",
    "\n",
    "ANSWER-"
   ]
  },
  {
   "cell_type": "code",
   "execution_count": 18,
   "id": "188a7ca2",
   "metadata": {},
   "outputs": [
    {
     "name": "stdout",
     "output_type": "stream",
     "text": [
      "enter a list of string: Adam Sarah Malcolm\n",
      "['Adam', 'Sarah', 'Malcolm'] -> AMS\n",
      "enter a list of string: Harry Newt Cho\n",
      "['Harry', 'Newt', 'Cho'] -> CHN\n",
      "enter a list of string: Phoebe Chandler Rachel Ross Monica Joey\n",
      "['Phoebe', 'Chandler', 'Rachel', 'Ross', 'Monica', 'Joey'] -> CJMPRR\n",
      "enter a list of string: Ineuron Sanjay Sharma Krish Sudhanshu\n",
      "['Ineuron', 'Sanjay', 'Sharma', 'Krish', 'Sudhanshu'] -> IKSSS\n"
     ]
    }
   ],
   "source": [
    "def society_name(lst):\n",
    "    out_str=[]\n",
    "    for i in lst:\n",
    "        out_str.append(i[0])\n",
    "    final_output=''.join(sorted(out_str))\n",
    "    print(f'{lst} -> {final_output}')\n",
    "    \n",
    "for k in range(4):\n",
    "    l=input(\"enter a list of string: \")\n",
    "    l1=[str(j) for j in l.split()]\n",
    "    society_name(l1)\n"
   ]
  },
  {
   "cell_type": "markdown",
   "id": "3df957d7",
   "metadata": {},
   "source": [
    "# Question4 An isogram is a word that has no duplicate letters. Create a function that takes a string and returns either True or False depending on whether or not it's an \"isogram\".\n",
    "Examples\n",
    "is_isogram(\"Algorism\") ➞ True\n",
    "is_isogram(\"PasSword\") ➞ False\n",
    "# Not case sensitive.\n",
    "is_isogram(\"Consecutive\") ➞ False\n",
    "Notes\n",
    " Ignore letter case (should not be case sensitive).\n",
    " All test cases contain valid one word strings.\n",
    "\n",
    "ANSWER-"
   ]
  },
  {
   "cell_type": "code",
   "execution_count": 19,
   "id": "d8899f97",
   "metadata": {},
   "outputs": [
    {
     "name": "stdout",
     "output_type": "stream",
     "text": [
      "enter a string: Algorism\n",
      "Algorism -> True\n",
      "enter a string: PasSword\n",
      "PasSword -> False\n",
      "enter a string: Consecutive\n",
      "Consecutive -> False\n",
      "enter a string: Ineuron\n",
      "Ineuron -> False\n"
     ]
    }
   ],
   "source": [
    "def is_isogram(s):\n",
    "    lower_s=s.lower()\n",
    "    if len(lower_s)==len(set(lower_s)):\n",
    "        print(f'{s} -> {True}')\n",
    "    else:\n",
    "        print(f'{s} -> {False}')\n",
    "for i in range(4):\n",
    "    string=input(\"enter a string: \")\n",
    "    is_isogram(string)"
   ]
  },
  {
   "cell_type": "markdown",
   "id": "04c9ce6b",
   "metadata": {},
   "source": [
    "# Question5 Create a function that takes a string and returns True or False, depending on whether the characters are in order or not.\n",
    "Examples\n",
    "is_in_order(\"abc\") ➞ True\n",
    "is_in_order(\"edabit\") ➞ False\n",
    "is_in_order(\"123\") ➞ True\n",
    "is_in_order(\"xyzz\") ➞ True\n",
    "Notes\n",
    "You don't have to handle empty strings.\n",
    "\n",
    "ANSWER-"
   ]
  },
  {
   "cell_type": "code",
   "execution_count": 26,
   "id": "fcae22ab",
   "metadata": {},
   "outputs": [
    {
     "name": "stdout",
     "output_type": "stream",
     "text": [
      "enter a string: abc\n",
      "abc -> True\n",
      "enter a string: edabit\n",
      "edabit -> False\n",
      "enter a string: 123\n",
      "123 -> True\n",
      "enter a string: xyzz\n",
      "xyzz -> True\n"
     ]
    }
   ],
   "source": [
    "def is_in_order(C):\n",
    "    C_sorted=''.join(sorted(C))\n",
    "    if C==C_sorted:\n",
    "        print(f'{C} -> {True}')\n",
    "    else:\n",
    "        print(f'{C} -> {False}')\n",
    "        \n",
    "        \n",
    "for i in range(4):\n",
    "    string=input(\"enter a string: \")\n",
    "    is_in_order(string)        \n",
    "        \n",
    "    "
   ]
  },
  {
   "cell_type": "code",
   "execution_count": null,
   "id": "3caff42d",
   "metadata": {},
   "outputs": [],
   "source": []
  }
 ],
 "metadata": {
  "kernelspec": {
   "display_name": "Python 3 (ipykernel)",
   "language": "python",
   "name": "python3"
  },
  "language_info": {
   "codemirror_mode": {
    "name": "ipython",
    "version": 3
   },
   "file_extension": ".py",
   "mimetype": "text/x-python",
   "name": "python",
   "nbconvert_exporter": "python",
   "pygments_lexer": "ipython3",
   "version": "3.9.12"
  }
 },
 "nbformat": 4,
 "nbformat_minor": 5
}
